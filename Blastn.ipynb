{
 "cells": [
  {
   "cell_type": "code",
   "execution_count": 1,
   "id": "b52a3039",
   "metadata": {},
   "outputs": [],
   "source": [
    "from Bio.Blast import NCBIWWW\n",
    "from Bio.Blast import NCBIXML"
   ]
  },
  {
   "cell_type": "code",
   "execution_count": 2,
   "id": "ed0f58e8",
   "metadata": {},
   "outputs": [
    {
     "data": {
      "text/plain": [
       "'>forward\\nNCTACGGGAGGCTGCAGTGGGGAATATTGCACAATGGGCGCAAGCCTGATGCAGCGACGCCGCGTGCGGG\\nATGTCGGCCTTCGGGTTGTAAACCGCTTTTGTCTGGGAGCTAGCCCTTCGGGGTTAGTCTCCCTTCCGCA\\nTATGCACCGGCTACCTACGTCCCAGCCGCCGCGGTAATACGTAGGGTGCCAGCGTTATCCGGTATTTTTG\\nGGCGTAACGTGCTCTTAGGCGGTTCGTCGCGTCCGGTTTGCATTTCCTTCCCTTAACCGTGTATCCGCCC\\n\\n>reverse\\nGACTACAAGGGTATCNAATCCTGTTNGCTCCCCACGCTTTCGCTCCTCAGCGTCAGTGACGGCCCAGAGA\\nCCTGCCNNCGCCATTGGTGTTCNNCCCGATATCTACACATTCCACCGTTACAACGGGAATTCCAGTCTCC\\nCCTACCGCACTCCAGCCCCCCCGTTCCCGCCGCGCATCCACCGTTAAACGATGCCCTTTCCCCCCTGACT\\nCCACTCACCCCCTCCGCTCCCCTTCCCCCCCATCCTTCCCGCTCATCCTTACCCCCCACCTTTTACCGCT'"
      ]
     },
     "execution_count": 2,
     "metadata": {},
     "output_type": "execute_result"
    }
   ],
   "source": [
    "sequence_data = open(\"sequences.fasta\").read() #open the sequence file\n",
    "sequence_data"
   ]
  },
  {
   "cell_type": "code",
   "execution_count": 3,
   "id": "650320e0",
   "metadata": {},
   "outputs": [
    {
     "data": {
      "text/plain": [
       "<_io.StringIO at 0x23191e32940>"
      ]
     },
     "execution_count": 3,
     "metadata": {},
     "output_type": "execute_result"
    }
   ],
   "source": [
    "#qblast function passing sequence data as main parameter, blastn program, nt database\n",
    "result_handle = NCBIWWW.qblast(\"blastn\", \"nt\", sequence_data)\n",
    "result_handle"
   ]
  },
  {
   "cell_type": "code",
   "execution_count": 4,
   "id": "b265c43d",
   "metadata": {},
   "outputs": [],
   "source": [
    "#We save the blast results to results.xml\n",
    "with open('results.xml','w') as save_file:\n",
    "    blast_results = result_handle.read()\n",
    "    save_file.write(blast_results)"
   ]
  },
  {
   "cell_type": "markdown",
   "id": "11e5643e",
   "metadata": {},
   "source": [
    "To parse the blast file"
   ]
  },
  {
   "cell_type": "code",
   "execution_count": 5,
   "id": "59bf403c",
   "metadata": {},
   "outputs": [
    {
     "name": "stdout",
     "output_type": "stream",
     "text": [
      "\n",
      "\n",
      "query: forward\n",
      "match: gi|2308283195|gb|OP510064.1| Bifidobacterium adolescentis strain CLD22002 16S ribosomal RNA gene, pa \n",
      "match: gi|2292649523|dbj|LC726256.1| Bifidobacterium adolescentis ShW6-4 gene for 16S ribosomal RNA, partia \n",
      "match: gi|2292649522|dbj|LC726255.1| Bifidobacterium adolescentis SjH6-2 gene for 16S ribosomal RNA, partia \n",
      "match: gi|2292649520|dbj|LC726253.1| Bifidobacterium adolescentis Sh4-6 gene for 16S ribosomal RNA, partial \n",
      "match: gi|2292649517|dbj|LC726250.1| Bifidobacterium adolescentis C6-5 gene for 16S ribosomal RNA, partial  \n",
      "match: gi|2240214207|gb|CP097281.1| Bifidobacterium adolescentis strain NB2B-16-TSAB chromosome \n",
      "match: gi|2240214207|gb|CP097281.1| Bifidobacterium adolescentis strain NB2B-16-TSAB chromosome \n",
      "match: gi|2240214207|gb|CP097281.1| Bifidobacterium adolescentis strain NB2B-16-TSAB chromosome \n",
      "match: gi|2240214207|gb|CP097281.1| Bifidobacterium adolescentis strain NB2B-16-TSAB chromosome \n",
      "match: gi|2240214207|gb|CP097281.1| Bifidobacterium adolescentis strain NB2B-16-TSAB chromosome \n",
      "match: gi|2214409043|gb|OK325779.2| Bifidobacterium sp. strain B2-Q-108 16S ribosomal RNA gene, partial seq \n",
      "match: gi|2204435299|gb|OM920821.1| Bifidobacterium adolescentis strain 21428 16S ribosomal RNA gene, parti \n",
      "match: gi|2204435298|gb|OM920820.1| Bifidobacterium adolescentis strain 20981 16S ribosomal RNA gene, parti \n",
      "match: gi|2204435297|gb|OM920819.1| Bifidobacterium adolescentis strain 20955 16S ribosomal RNA gene, parti \n",
      "match: gi|2204435296|gb|OM920818.1| Bifidobacterium adolescentis strain 20954 16S ribosomal RNA gene, parti \n",
      "match: gi|2202690279|gb|OM899620.1| Bifidobacterium adolescentis strain 21586 16S ribosomal RNA gene, parti \n",
      "match: gi|2202690278|gb|OM899619.1| Bifidobacterium adolescentis strain 21585 16S ribosomal RNA gene, parti \n",
      "match: gi|2202690277|gb|OM899618.1| Bifidobacterium adolescentis strain 21567 16S ribosomal RNA gene, parti \n",
      "match: gi|2199652972|gb|OM838308.1| Bifidobacterium adolescentis strain 21601 16S ribosomal RNA gene, parti \n",
      "match: gi|2199652962|gb|OM838301.1| Bifidobacterium adolescentis strain 21599 16S ribosomal RNA gene, parti \n",
      "match: gi|2199652961|gb|OM838300.1| Bifidobacterium adolescentis strain 21598 16S ribosomal RNA gene, parti \n",
      "match: gi|2199652959|gb|OM838298.1| Bifidobacterium adolescentis strain 21566 16S ribosomal RNA gene, parti \n",
      "match: gi|2198972433|gb|OM802685.1| Bifidobacterium adolescentis strain 21193 16S ribosomal RNA gene, parti \n",
      "match: gi|2197865458|gb|OM763952.1| Bifidobacterium faecale strain 21506 16S ribosomal RNA gene, partial se \n",
      "match: gi|2197865438|gb|OM763932.1| Bifidobacterium adolescentis strain 21483 16S ribosomal RNA gene, parti \n",
      "match: gi|2197865437|gb|OM763931.1| Bifidobacterium adolescentis strain 21482 16S ribosomal RNA gene, parti \n",
      "match: gi|2197865408|gb|OM763902.1| Bifidobacterium faecale strain 21426 16S ribosomal RNA gene, partial se \n",
      "match: gi|2197865407|gb|OM763901.1| Bifidobacterium faecale strain 21424 16S ribosomal RNA gene, partial se \n",
      "match: gi|2197865406|gb|OM763900.1| Bifidobacterium adolescentis strain 21423 16S ribosomal RNA gene, parti \n",
      "match: gi|2197865384|gb|OM763878.1| Bifidobacterium faecale strain 21269 16S ribosomal RNA gene, partial se \n",
      "match: gi|2183996650|gb|OM406280.1| Bifidobacterium faecale strain 20836 16S ribosomal RNA gene, partial se \n",
      "match: gi|2183864701|gb|OM403619.1| Bifidobacterium faecale strain 21410 16S ribosomal RNA gene, partial se \n",
      "match: gi|2183864700|gb|OM403618.1| Bifidobacterium faecale strain 21409 16S ribosomal RNA gene, partial se \n",
      "match: gi|2183864698|gb|OM403616.1| Bifidobacterium faecale strain 21407 16S ribosomal RNA gene, partial se \n",
      "match: gi|2183864673|gb|OM403602.1| Bifidobacterium adolescentis strain 20938 16S ribosomal RNA gene, parti \n",
      "match: gi|2183842547|gb|OM403588.1| Bifidobacterium faecale strain 21376 16S ribosomal RNA gene, partial se \n",
      "match: gi|2183842546|gb|OM403587.1| Bifidobacterium faecale strain 21375 16S ribosomal RNA gene, partial se \n",
      "match: gi|2183842545|gb|OM403586.1| Bifidobacterium faecale strain 21374 16S ribosomal RNA gene, partial se \n",
      "match: gi|2183842544|gb|OM403585.1| Bifidobacterium faecale strain 21373 16S ribosomal RNA gene, partial se \n",
      "match: gi|2183842542|gb|OM403583.1| Bifidobacterium faecale strain 21371 16S ribosomal RNA gene, partial se \n",
      "match: gi|2183842536|gb|OM403577.1| Bifidobacterium faecale strain 21365 16S ribosomal RNA gene, partial se \n",
      "match: gi|2183842516|gb|OM403557.1| Bifidobacterium faecale strain 21320 16S ribosomal RNA gene, partial se \n",
      "match: gi|2183842515|gb|OM403556.1| Bifidobacterium faecale strain 21319 16S ribosomal RNA gene, partial se \n",
      "match: gi|2183842513|gb|OM403554.1| Bifidobacterium faecale strain 21317 16S ribosomal RNA gene, partial se \n",
      "match: gi|2183842511|gb|OM403552.1| Bifidobacterium adolescentis strain 21312 16S ribosomal RNA gene, parti \n",
      "match: gi|2183842508|gb|OM403549.1| Bifidobacterium adolescentis strain 21309 16S ribosomal RNA gene, parti \n",
      "match: gi|2183799573|gb|OM403422.1| Bifidobacterium adolescentis strain 20999 16S ribosomal RNA gene, parti \n",
      "match: gi|2183799542|gb|OM403391.1| Bifidobacterium faecale strain 20949 16S ribosomal RNA gene, partial se \n",
      "match: gi|2183799541|gb|OM403390.1| Bifidobacterium faecale strain 20948 16S ribosomal RNA gene, partial se \n",
      "match: gi|2183771647|gb|OM403348.1| Bifidobacterium faecale strain 21173 16S ribosomal RNA gene, partial se \n",
      "match: gi|2123958143|dbj|LC655223.1| Bifidobacterium adolescentis HWB3 gene for 16S rRNA, partial sequence \n",
      "match: gi|2116593582|gb|OK510286.1| Bifidobacterium sp. strain H4-GB5-C6 16S ribosomal RNA gene, partial se \n",
      "match: gi|2103567520|gb|OK326187.1| Bifidobacterium sp. strain M3-G-107 16S ribosomal RNA gene, partial seq \n",
      "match: gi|2103567464|gb|OK326131.1| Bifidobacterium sp. strain C2-R-100 16S ribosomal RNA gene, partial seq \n",
      "\n",
      "\n",
      "query: reverse\n",
      "match: gi|2259488212|emb|OW953453.1| Bifidobacterium adolescentis DNA containing 16S-23S intergenic spacer  \n",
      "match: gi|261262901|gb|GQ898757.1| Uncultured bacterium clone S4-93 16S ribosomal RNA gene, partial sequenc \n",
      "match: gi|261261366|gb|GQ897213.1| Uncultured bacterium clone C4-74 16S ribosomal RNA gene, partial sequenc \n",
      "match: gi|1133589720|gb|KY479000.1| Uncultured Rapidithrix sp. clone CCB4170 16S ribosomal RNA gene, partia \n",
      "match: gi|1133588156|gb|KY477436.1| Uncultured Paenibacillus sp. clone CCB1189 16S ribosomal RNA gene, part \n",
      "match: gi|1133587599|gb|KY476879.1| Uncultured Persicitalea sp. clone CCB148 16S ribosomal RNA gene, partia \n",
      "match: gi|1855411593|gb|MT611742.1| Bifidobacterium faecale strain 2731 16S ribosomal RNA gene, partial seq \n",
      "match: gi|1855411591|gb|MT611740.1| Bifidobacterium faecale strain 2729 16S ribosomal RNA gene, partial seq \n",
      "match: gi|1855411590|gb|MT611739.1| Bifidobacterium faecale strain 2728 16S ribosomal RNA gene, partial seq \n",
      "match: gi|1855411556|gb|MT611705.1| Bifidobacterium faecale strain 2687 16S ribosomal RNA gene, partial seq \n",
      "match: gi|1855411548|gb|MT611697.1| Bifidobacterium faecale strain 2678 16S ribosomal RNA gene, partial seq \n",
      "match: gi|1855411546|gb|MT611695.1| Bifidobacterium faecale strain 2676 16S ribosomal RNA gene, partial seq \n",
      "match: gi|1852867599|gb|MT604885.1| Bifidobacterium adolescentis strain 2472 16S ribosomal RNA gene, partia \n",
      "match: gi|1852867595|gb|MT604883.1| Bifidobacterium adolescentis strain 2466 16S ribosomal RNA gene, partia \n",
      "match: gi|1852867473|gb|MT604821.1| Bifidobacterium breve strain 2369 16S ribosomal RNA gene, partial seque \n",
      "match: gi|1852325112|gb|MT597531.1| Bifidobacterium faecale strain 1652 16S ribosomal RNA gene, partial seq \n",
      "match: gi|1851774651|gb|MT585630.1| Bifidobacterium faecale strain 981 16S ribosomal RNA gene, partial sequ \n",
      "match: gi|1841537088|gb|MT464131.1| Bifidobacterium faecale strain 7564 16S ribosomal RNA gene, partial seq \n",
      "match: gi|1827279285|gb|MT268979.1| Bifidobacterium adolescentis strain ADE1 16S ribosomal RNA gene, partia \n",
      "match: gi|1827635730|dbj|LC515562.1| Bifidobacterium faecale H067 gene for 16S ribosomal RNA, partial seque \n",
      "match: gi|1789828052|gb|CP047129.1| Bifidobacterium adolescentis strain ZJ2 chromosome, complete genome \n",
      "match: gi|1789828052|gb|CP047129.1| Bifidobacterium adolescentis strain ZJ2 chromosome, complete genome \n",
      "match: gi|1789828052|gb|CP047129.1| Bifidobacterium adolescentis strain ZJ2 chromosome, complete genome \n",
      "match: gi|1789828052|gb|CP047129.1| Bifidobacterium adolescentis strain ZJ2 chromosome, complete genome \n",
      "match: gi|1783562276|gb|MN822690.1| Bifidobacterium adolescentis strain ZJ2 16S ribosomal RNA gene, partial \n",
      "match: gi|2308283195|gb|OP510064.1| Bifidobacterium adolescentis strain CLD22002 16S ribosomal RNA gene, pa \n",
      "match: gi|2292649523|dbj|LC726256.1| Bifidobacterium adolescentis ShW6-4 gene for 16S ribosomal RNA, partia \n",
      "match: gi|2292649522|dbj|LC726255.1| Bifidobacterium adolescentis SjH6-2 gene for 16S ribosomal RNA, partia \n",
      "match: gi|2292649520|dbj|LC726253.1| Bifidobacterium adolescentis Sh4-6 gene for 16S ribosomal RNA, partial \n",
      "match: gi|2292649517|dbj|LC726250.1| Bifidobacterium adolescentis C6-5 gene for 16S ribosomal RNA, partial  \n",
      "match: gi|2240214207|gb|CP097281.1| Bifidobacterium adolescentis strain NB2B-16-TSAB chromosome \n",
      "match: gi|2240214207|gb|CP097281.1| Bifidobacterium adolescentis strain NB2B-16-TSAB chromosome \n",
      "match: gi|2240214207|gb|CP097281.1| Bifidobacterium adolescentis strain NB2B-16-TSAB chromosome \n",
      "match: gi|2240214207|gb|CP097281.1| Bifidobacterium adolescentis strain NB2B-16-TSAB chromosome \n",
      "match: gi|2240214207|gb|CP097281.1| Bifidobacterium adolescentis strain NB2B-16-TSAB chromosome \n",
      "match: gi|2214409043|gb|OK325779.2| Bifidobacterium sp. strain B2-Q-108 16S ribosomal RNA gene, partial seq \n",
      "match: gi|2164570265|gb|OL826857.1| Bifidobacterium adolescentis strain CLA-AA-H280 16S ribosomal RNA gene, \n",
      "match: gi|2123958143|dbj|LC655223.1| Bifidobacterium adolescentis HWB3 gene for 16S rRNA, partial sequence \n",
      "match: gi|2116593582|gb|OK510286.1| Bifidobacterium sp. strain H4-GB5-C6 16S ribosomal RNA gene, partial se \n",
      "match: gi|2103567520|gb|OK326187.1| Bifidobacterium sp. strain M3-G-107 16S ribosomal RNA gene, partial seq \n",
      "match: gi|2103567464|gb|OK326131.1| Bifidobacterium sp. strain C2-R-100 16S ribosomal RNA gene, partial seq \n",
      "match: gi|2103567408|gb|OK326075.1| Bifidobacterium sp. strain BL-R-118 16S ribosomal RNA gene, partial seq \n",
      "match: gi|2103567399|gb|OK326066.1| Bifidobacterium sp. strain BL-R-102 16S ribosomal RNA gene, partial seq \n",
      "match: gi|2103567368|gb|OK326035.1| Bifidobacterium sp. strain BG-T-102 16S ribosomal RNA gene, partial seq \n",
      "match: gi|2095683355|gb|OK148082.1| Bifidobacterium sp. strain TG-R-101 16S ribosomal RNA gene, partial seq \n",
      "match: gi|2095683275|gb|OK148002.1| Bifidobacterium sp. strain BL-T-100 16S ribosomal RNA gene, partial seq \n",
      "match: gi|2090997321|gb|OK072153.1| Uncultured bacterium clone ASV_1283 16S ribosomal RNA gene, partial seq \n",
      "match: gi|2021897893|gb|MW866795.1| Bifidobacterium faecale strain 17359 16S ribosomal RNA gene, partial se \n",
      "match: gi|2022704094|gb|CP053072.1| Bifidobacterium adolescentis strain PRL2019 chromosome, complete genome \n",
      "match: gi|2022704094|gb|CP053072.1| Bifidobacterium adolescentis strain PRL2019 chromosome, complete genome \n",
      "match: gi|2022704094|gb|CP053072.1| Bifidobacterium adolescentis strain PRL2019 chromosome, complete genome \n",
      "match: gi|2022704094|gb|CP053072.1| Bifidobacterium adolescentis strain PRL2019 chromosome, complete genome \n",
      "match: gi|2006410147|gb|MW750419.1| Bifidobacterium sp. strain KGMB10663 16S ribosomal RNA gene, partial se \n",
      "match: gi|1953341085|gb|MW445041.1| Bifidobacterium faecale strain 12536 16S ribosomal RNA gene, partial se \n",
      "match: gi|1917985665|dbj|LC589222.1| Bifidobacterium faecale JCM 19861 gene for 16S rRNA, partial sequence \n",
      "match: gi|1908852541|gb|MW036294.1| Bifidobacterium sp. strain MRG-SR-62 16S ribosomal RNA gene, partial se \n",
      "match: gi|1908852540|gb|MW036293.1| Bifidobacterium sp. strain MRG-SR-352 16S ribosomal RNA gene, partial s \n",
      "match: gi|1893900893|gb|MT902946.1| Bifidobacterium adolescentis strain 4_CP_SP_10.mj 16S ribosomal RNA gen \n",
      "match: gi|1893900890|gb|MT902943.1| Bifidobacterium faecale strain 4-CP1-AT-SP-D3-35 16S ribosomal RNA gene \n",
      "match: gi|1893900886|gb|MT902939.1| Bifidobacterium adolescentis strain MNR-D2-20 16S ribosomal RNA gene, p \n"
     ]
    }
   ],
   "source": [
    "E_VALUE_THRESH = 1e-20 #E value limit\n",
    "for record in NCBIXML.parse(open(\"results.xml\")): \n",
    "    if record.alignments:\n",
    "        print(\"\\n\")\n",
    "        print(\"query: %s\" % record.query[:100]) #type of sequence\n",
    "        for align in record.alignments:\n",
    "            for hsp in align.hsps: #high scoring pairs\n",
    "                if hsp.expect < E_VALUE_THRESH:\n",
    "                    print(\"match: %s \" % align.title[:100])"
   ]
  }
 ],
 "metadata": {
  "kernelspec": {
   "display_name": "Python 3 (ipykernel)",
   "language": "python",
   "name": "python3"
  },
  "language_info": {
   "codemirror_mode": {
    "name": "ipython",
    "version": 3
   },
   "file_extension": ".py",
   "mimetype": "text/x-python",
   "name": "python",
   "nbconvert_exporter": "python",
   "pygments_lexer": "ipython3",
   "version": "3.9.12"
  }
 },
 "nbformat": 4,
 "nbformat_minor": 5
}
